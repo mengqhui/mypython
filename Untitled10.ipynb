{
 "cells": [
  {
   "cell_type": "code",
   "execution_count": null,
   "metadata": {
    "collapsed": false,
    "deletable": true,
    "editable": true
   },
   "outputs": [],
   "source": [
    "import pandas as pd\n",
    "import re\n",
    "import random\n",
    "\n",
    "filepath=u'22.txt'\n",
    "\n",
    "#df=pd.read_csv(filepath,sep='\\t',encoding='utf-16',header=2)\n",
    "df=pd.read_csv(filepath,sep='\\t',encoding='utf-16')\n",
    "\n",
    "df.head(2)"
   ]
  },
  {
   "cell_type": "code",
   "execution_count": null,
   "metadata": {
    "collapsed": true,
    "deletable": true,
    "editable": true
   },
   "outputs": [],
   "source": [
    "wdstr=[u'D:\\\\甩手数据包\\\\淘宝助理.{0,60}.png',u'D:\\\\甩手数据包\\\\淘宝助理.{0,60}.gif',u'D:\\\\甩手数据包\\\\淘宝助理.{0,60}.jpg']\n",
    "dstr=[u'D:/甩手数据包/淘宝助理.{0,60}.jpg',u'D:/甩手数据包/淘宝助理.{0,60}.png',u'D:/甩手数据包/淘宝助理.{0,60}.gif']"
   ]
  },
  {
   "cell_type": "code",
   "execution_count": null,
   "metadata": {
    "collapsed": false,
    "deletable": true,
    "editable": true
   },
   "outputs": [],
   "source": [
    "AAA=re.search(u'D:/甩手数据包/淘宝助理.{0,60}.jpg',df.description[0]).span()\n"
   ]
  },
  {
   "cell_type": "code",
   "execution_count": null,
   "metadata": {
    "collapsed": false,
    "deletable": true,
    "editable": true
   },
   "outputs": [],
   "source": [
    "dir_list=re.findall(dstr[0],df.description[0])"
   ]
  },
  {
   "cell_type": "code",
   "execution_count": null,
   "metadata": {
    "collapsed": false,
    "deletable": true,
    "editable": true
   },
   "outputs": [],
   "source": [
    "print(dir_list[1])"
   ]
  },
  {
   "cell_type": "code",
   "execution_count": null,
   "metadata": {
    "collapsed": false,
    "deletable": true,
    "editable": true,
    "scrolled": true
   },
   "outputs": [],
   "source": [
    "for inde,descri in enumerate(df.description):\n",
    "    djppng=[]\n",
    "    ll=re.findall(u'file:',descri)\n",
    "    djppng.extend(ll)\n",
    "    \n",
    "    lw=re.findall(u'\\<img\\>(.{0,150})\\</img\\>',df.wireless[inde][0:99])\n",
    "    djppng.extend(lw)\n",
    "\n",
    "    #djppng.extend(wdjppng)\n",
    "    dstring=','.join(djppng)\n",
    "\n",
    "    df.description[inde]=djppng\n",
    "    "
   ]
  },
  {
   "cell_type": "code",
   "execution_count": null,
   "metadata": {
    "collapsed": false,
    "deletable": true,
    "editable": true,
    "scrolled": true
   },
   "outputs": [],
   "source": [
    "df.description[1]"
   ]
  },
  {
   "cell_type": "code",
   "execution_count": null,
   "metadata": {
    "collapsed": false,
    "deletable": true,
    "editable": true
   },
   "outputs": [],
   "source": [
    "df.description[0:3]"
   ]
  },
  {
   "cell_type": "code",
   "execution_count": null,
   "metadata": {
    "collapsed": false,
    "deletable": true,
    "editable": true
   },
   "outputs": [],
   "source": [
    "df.head(3)"
   ]
  },
  {
   "cell_type": "code",
   "execution_count": null,
   "metadata": {
    "collapsed": true,
    "deletable": true,
    "editable": true
   },
   "outputs": [],
   "source": [
    "df.to_csv(u'APC.csv',sep='\\t',index=False)"
   ]
  }
 ],
 "metadata": {
  "kernelspec": {
   "display_name": "Python 2",
   "language": "python",
   "name": "python2"
  },
  "language_info": {
   "codemirror_mode": {
    "name": "ipython",
    "version": 2
   },
   "file_extension": ".py",
   "mimetype": "text/x-python",
   "name": "python",
   "nbconvert_exporter": "python",
   "pygments_lexer": "ipython2",
   "version": "2.7.13"
  }
 },
 "nbformat": 4,
 "nbformat_minor": 2
}
