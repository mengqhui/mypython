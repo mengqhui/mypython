{
 "cells": [
  {
   "cell_type": "code",
   "execution_count": 50,
   "metadata": {
    "collapsed": false
   },
   "outputs": [],
   "source": [
    "fo = open(u\"松下蓄电池.txt\", \"r\")"
   ]
  },
  {
   "cell_type": "code",
   "execution_count": 51,
   "metadata": {
    "collapsed": true
   },
   "outputs": [],
   "source": [
    "lines=fo.readlines()"
   ]
  },
  {
   "cell_type": "code",
   "execution_count": 52,
   "metadata": {
    "collapsed": false
   },
   "outputs": [
    {
     "data": {
      "text/plain": [
       "list"
      ]
     },
     "execution_count": 52,
     "metadata": {},
     "output_type": "execute_result"
    }
   ],
   "source": [
    "type(lines)"
   ]
  },
  {
   "cell_type": "code",
   "execution_count": 53,
   "metadata": {
    "collapsed": true
   },
   "outputs": [],
   "source": [
    "import random"
   ]
  },
  {
   "cell_type": "code",
   "execution_count": 54,
   "metadata": {
    "collapsed": false
   },
   "outputs": [
    {
     "name": "stdout",
     "output_type": "stream",
     "text": [
      "D:\\甩手数据包\\淘宝助理5201610271647\\media\\电源蓄电池太阳能电瓶95\\20161027165126-8-4_dmjbs0.jpg\n",
      "\n"
     ]
    }
   ],
   "source": [
    "print (random.choice(lines))"
   ]
  },
  {
   "cell_type": "code",
   "execution_count": 55,
   "metadata": {
    "collapsed": false
   },
   "outputs": [],
   "source": [
    "ff=open(u'11.txt','w')"
   ]
  },
  {
   "cell_type": "code",
   "execution_count": 56,
   "metadata": {
    "collapsed": false
   },
   "outputs": [
    {
     "name": "stdout",
     "output_type": "stream",
     "text": [
      "None\n",
      "None\n",
      "None\n",
      "None\n",
      "None\n",
      "None\n",
      "None\n",
      "None\n",
      "None\n",
      "None\n",
      "None\n",
      "None\n",
      "None\n",
      "None\n",
      "None\n",
      "None\n",
      "None\n",
      "None\n",
      "None\n",
      "None\n",
      "None\n",
      "None\n",
      "None\n",
      "None\n",
      "None\n",
      "None\n",
      "None\n",
      "None\n",
      "None\n",
      "None\n",
      "None\n",
      "None\n",
      "None\n",
      "None\n",
      "None\n",
      "None\n",
      "None\n",
      "None\n",
      "None\n",
      "None\n",
      "None\n",
      "None\n",
      "None\n",
      "None\n",
      "None\n",
      "None\n",
      "None\n",
      "None\n",
      "None\n",
      "None\n",
      "None\n",
      "None\n",
      "None\n",
      "None\n",
      "None\n",
      "None\n",
      "None\n",
      "None\n",
      "None\n",
      "None\n",
      "None\n",
      "None\n",
      "None\n",
      "None\n",
      "None\n",
      "None\n",
      "None\n",
      "None\n",
      "None\n",
      "None\n",
      "None\n",
      "None\n",
      "None\n",
      "None\n",
      "None\n",
      "None\n",
      "None\n",
      "None\n",
      "None\n",
      "None\n",
      "None\n",
      "None\n",
      "None\n",
      "None\n",
      "None\n",
      "None\n",
      "None\n",
      "None\n",
      "None\n",
      "None\n",
      "None\n",
      "None\n",
      "None\n",
      "None\n",
      "None\n",
      "None\n",
      "None\n",
      "None\n",
      "None\n",
      "None\n"
     ]
    }
   ],
   "source": [
    "listtt=[]\n",
    "for i in range(0,100,1):\n",
    "    print (listtt.append(random.choice(lines)))"
   ]
  },
  {
   "cell_type": "code",
   "execution_count": 57,
   "metadata": {
    "collapsed": false
   },
   "outputs": [
    {
     "name": "stdout",
     "output_type": "stream",
     "text": [
      "D:\\甩手数据包\\淘宝助理5201610271723\\media\\免维护蓄电池电源专用1209\\20161027174423-4-5_dmjbs0.jpg\n",
      "\n"
     ]
    }
   ],
   "source": [
    "print (listtt[4])"
   ]
  },
  {
   "cell_type": "code",
   "execution_count": 59,
   "metadata": {
    "collapsed": false
   },
   "outputs": [
    {
     "name": "stdout",
     "output_type": "stream",
     "text": [
      "D:\\甩手数据包\\淘宝助理5201610271829\\media\\护胶体蓄电池厂家直销4754\\20161027191138-3-2_dmjbs0.jpg\n",
      "\n",
      "D:\\甩手数据包\\淘宝助理5201610271723\\media\\池太阳能直流屏电源用1135\\20161027174333-4-1_dmjbs0.jpg\n",
      "\n",
      "D:/甩手数据包/淘宝助理5201610271829/contentPic/池电源直流屏质保三年5296/52961a7a0d-5.jpg\n",
      "\n",
      "D:/甩手数据包/淘宝助理5201610271829/contentPic/池松下蓄电池原装正品2768/2768f04979-4.jpg\n",
      "\n",
      "D:\\甩手数据包\\淘宝助理5201610271723\\media\\免维护蓄电池电源专用1209\\20161027174423-4-5_dmjbs0.jpg\n",
      "\n",
      "D:\\甩手数据包\\淘宝助理5201610271829\\media\\间断电源专用电瓶正品4613\\20161027192949-0-8_dmjbs0.jpg\n",
      "\n",
      "D:\\甩手数据包\\淘宝助理5201610271829\\media\\免维护蓄电池厂家直销4288\\20161027191524-8-5_dmjbs0.jpg\n",
      "\n",
      "D:/甩手数据包/淘宝助理5201610271723/contentPic/池应急灯直流屏电源用868/868126365-3.jpg\n",
      "\n",
      "D:/甩手数据包/淘宝助理5201610271829/contentPic/蓄电池直流屏专用正品4526/45261f627a-2.jpg\n",
      "\n",
      "D:\\甩手数据包\\淘宝助理5201610271829\\media\\松下蓄电池蓄电池电瓶2807\\20161027190858-7-1_dmjbs0.jpg\n",
      "\n",
      "D:\\甩手数据包\\淘宝助理5201610271829\\media\\用蓄电池原装正品现货4660\\20161027192732-5-4_dmjbs0.jpg\n",
      "\n",
      "D:\\甩手数据包\\淘宝助理5201610271647\\media\\电源蓄电池太阳能电瓶95\\20161027165126-8-1_dmjbs0.jpg\n",
      "\n",
      "D:/甩手数据包/淘宝助理5201610271723/contentPic/蓄电池应急灯太阳能用758/7587f3c3c-6.jpg\n",
      "\n",
      "D:/甩手数据包/淘宝助理5201610271829/contentPic/护胶体蓄电池厂家直销4754/4754eb7b39-3.jpg\n",
      "\n",
      "D:/甩手数据包/淘宝助理5201610271647/contentPic/下铅酸阀控免维护电瓶308/308292cd4-12.jpg\n",
      "\n",
      "D:\\甩手数据包\\淘宝助理5201610271723\\media\\太阳能直流屏电源通用824\\20161027174334-9-5_dmjbs0.jpg\n",
      "\n",
      "D:\\甩手数据包\\淘宝助理5201610271829\\media\\电池原装正品厂家直销2711\\20161027184720-4-1_dmjbs0.jpg\n",
      "\n",
      "D:\\甩手数据包\\淘宝助理5201610271829\\media\\大容量备用蓄电池现货5182\\20161027191636-4-5_dmjbs0.jpg\n",
      "\n",
      "D:\\甩手数据包\\淘宝助理5201610271647\\media\\维护电瓶仪器后备电池104\\20161027165119-6-1_dmjbs0.jpg\n",
      "\n",
      "D:/甩手数据包/淘宝助理5201610271829/contentPic/专用电源质保三年全新3147/3147b992cd-6.jpg\n",
      "\n",
      "D:\\甩手数据包\\淘宝助理5201610271723\\media\\电池应急灯电源太阳能810\\20161027174352-3-5_dmjbs0.jpg\n",
      "\n",
      "D:\\甩手数据包\\淘宝助理5201610271723\\media\\池太阳能直流屏电源用1135\\20161027174333-4-3_dmjbs0.jpg\n",
      "\n",
      "D:/甩手数据包/淘宝助理5201610271829/contentPic/正品量大更优电力电源2776/27767bd850-6.jpg\n",
      "\n",
      "D:/甩手数据包/淘宝助理5201610271829/contentPic/池赛特蓄电池赛特原装4581/458121c4c3-1.jpg\n",
      "\n",
      "D:/甩手数据包/淘宝助理5201610271723/contentPic/池应急灯直流屏电源用868/868126365-2.jpg\n",
      "\n",
      "D:/甩手数据包/淘宝助理5201610271723/contentPic/电池应急灯电源太阳能810/810076fa4-1.jpg\n",
      "\n",
      "D:\\甩手数据包\\淘宝助理5201610271723\\media\\电池太阳能直流屏电源954\\20161027174331-4-3_dmjbs0.jpg\n",
      "\n",
      "D:/甩手数据包/淘宝助理5201610271829/contentPic/装正品松下电源蓄电池3239/32393d3779-5.jpg\n",
      "\n",
      "D:/甩手数据包/淘宝助理5201610271829/contentPic/护铅酸储能电源送螺丝4362/4362ef2161-1.jpg\n",
      "\n",
      "D:/甩手数据包/淘宝助理5201610271829/contentPic/价格低廉质保三年专用2805/28058fa8c5-13.jpg\n",
      "\n",
      "D:/甩手数据包/淘宝助理5201610271829/contentPic/正品质保三年全国包邮4464/44641abeaf-2.jpg\n",
      "\n",
      "D:\\甩手数据包\\淘宝助理5201610271829\\media\\用蓄电池原装正品现货4660\\20161027192732-5-1_dmjbs0.jpg\n",
      "\n",
      "D:/甩手数据包/淘宝助理5201610271723/contentPic/太阳能直流屏电源通用739/739897c70-1.jpg\n",
      "\n",
      "D:/甩手数据包/淘宝助理5201610271829/contentPic/护铅酸阀控式电源包邮4867/4867e8ff41-10.jpg\n",
      "\n",
      "D:/甩手数据包/淘宝助理5201610271829/contentPic/免维护蓄电池厂家直销4288/4288ef1b00-1.jpg\n",
      "\n",
      "D:/甩手数据包/淘宝助理5201610271723/contentPic/池太阳能直流屏电源用1896/18967fe334-1.jpg\n",
      "\n",
      "D:/甩手数据包/淘宝助理5201610271647/contentPic/铅酸阀控免维护蓄电池67/677f496d-5.jpg\n",
      "\n",
      "D:/甩手数据包/淘宝助理5201610271829/contentPic/池免维护电池带安装线4753/47532e9013-1.jpg\n",
      "\n",
      "D:\\甩手数据包\\淘宝助理5201610271723\\media\\电池太阳能直流屏电源1573\\20161027174350-5-1_dmjbs0.jpg\n",
      "\n",
      "D:\\甩手数据包\\淘宝助理5201610271829\\media\\质保三年专用正品电池3652\\20161027190739-2-2_dmjbs0.jpg\n",
      "\n",
      "D:/甩手数据包/淘宝助理5201610271723/contentPic/太阳能直流屏电源通用739/739897c70-3.jpg\n",
      "\n",
      "D:\\甩手数据包\\淘宝助理5201610271723\\media\\免维护蓄电池电源专用1209\\20161027174423-4-3_dmjbs0.jpg\n",
      "\n",
      "﻿\n",
      "\n",
      "D:/甩手数据包/淘宝助理5201610271647/contentPic/铅酸阀控免维护蓄电池294/294c40953-20.jpg\n",
      "\n",
      "D:/甩手数据包/淘宝助理5201610271829/contentPic/电池原装正品厂家直销4118/411833b41a-13.jpg\n",
      "\n",
      "D:/甩手数据包/淘宝助理5201610271829/contentPic/沈阳松下官方正品报价4401/4401ef1b66-4.jpg\n",
      "\n",
      "D:/甩手数据包/淘宝助理5201610271829/contentPic/电池原装正品厂家直销2733/273390724c-1.jpg\n",
      "\n",
      "D:\\甩手数据包\\淘宝助理5201610271829\\media\\免维护蓄电池电源专用2971\\20161027190614-7-3_dmjbs0.jpg\n",
      "\n",
      "D:/甩手数据包/淘宝助理5201610271723/contentPic/蓄电池太阳能直流屏用2223/22233d5504-6.jpg\n",
      "\n",
      "D:/甩手数据包/淘宝助理5201610271829/contentPic/池重量在谨防假冒专用4850/485093861a-3.jpg\n",
      "\n",
      "D:\\甩手数据包\\淘宝助理5201610271723\\media\\蓄电池应急灯电源通用612\\20161027174408-0-1_dmjbs0.jpg\n",
      "\n",
      "D:\\甩手数据包\\淘宝助理5201610271829\\media\\免维护蓄电池电源专用2965\\20161027190616-9-3_dmjbs0.jpg\n",
      "\n",
      "D:\\甩手数据包\\淘宝助理5201610271829\\media\\池免维护电池带安装线4753\\20161027191805-6-3_dmjbs0.jpg\n",
      "\n",
      "D:\\甩手数据包\\淘宝助理5201610271829\\media\\松下蓄电池蓄电池电瓶2807\\20161027190858-7-2_dmjbs0.jpg\n",
      "\n",
      "D:/甩手数据包/淘宝助理5201610271829/contentPic/护铅酸阀控式电源包邮4867/4867e8ff41-9.jpg\n",
      "\n",
      "D:\\甩手数据包\\淘宝助理5201610271829\\media\\蓄电池直流屏专用正品2852\\20161027190851-3-1_dmjbs0.jpg\n",
      "\n",
      "D:\\甩手数据包\\淘宝助理5201610271723\\media\\蓄电池太阳能直流屏用2123\\20161027174332-6-3_dmjbs0.jpg\n",
      "\n",
      "D:/甩手数据包/淘宝助理5201610271723/contentPic/电池太阳能直流屏电源1573/1573ba8955-1.jpg\n",
      "\n",
      "D:\\甩手数据包\\淘宝助理5201610271829\\media\\专用电源质保三年全新3147\\20161027190757-9-9_dmjbs0.jpg\n",
      "\n",
      "D:/甩手数据包/淘宝助理5201610271723/contentPic/蓄电池太阳能直流屏用2223/22233d5504-9.jpg\n",
      "\n",
      "D:\\甩手数据包\\淘宝助理5201610271829\\media\\专用电源质保三年全新3147\\20161027190757-9-7_dmjbs0.jpg\n",
      "\n",
      "D:/甩手数据包/淘宝助理5201610271647/contentPic/电池电池松下电瓶电池181/1811dcba3-3.jpg\n",
      "\n",
      "D:\\甩手数据包\\淘宝助理5201610271829\\media\\源专用免维护蓄电池电4855\\20161027191229-7-2_dmjbs0.jpg\n",
      "\n",
      "D:/甩手数据包/淘宝助理5201610271647/contentPic/铅酸阀控免维护蓄电池294/294c40953-14.jpg\n",
      "\n",
      "D:\\甩手数据包\\淘宝助理5201610271723\\media\\蓄电池应急灯电源通用612\\20161027174408-0-3_dmjbs0.jpg\n",
      "\n",
      "D:/甩手数据包/淘宝助理5201610271647/contentPic/蓄电池电瓶免维护电池389/389c5ce0e-2.jpg\n",
      "\n",
      "D:\\甩手数据包\\淘宝助理5201610271647\\media\\蓄电池电瓶免维护电池389\\20161027165128-8-2_dmjbs0.jpg\n",
      "\n",
      "D:\\甩手数据包\\淘宝助理5201610271829\\media\\专用电源质保三年全新3147\\20161027190757-9-9_dmjbs0.jpg\n",
      "\n",
      "D:/甩手数据包/淘宝助理5201610271723/contentPic/电池应急灯电源太阳能810/810076fa4-2.jpg\n",
      "\n",
      "D:\\甩手数据包\\淘宝助理5201610271723\\media\\松下蓄电池应急灯通用827\\20161027174407-1-4_dmjbs0.jpg\n",
      "\n",
      "D:/甩手数据包/淘宝助理5201610271829/contentPic/沈阳松下官方正品报价4401/4401ef1b66-12.jpg\n",
      "\n",
      "D:\\甩手数据包\\淘宝助理5201610271829\\media\\电池原装正品厂家直销2735\\20161027184718-1-1_dmjbs0.jpg\n",
      "\n",
      "D:\\甩手数据包\\淘宝助理5201610271829\\media\\正品量大更优电力电源2776\\20161027190508-0-4_dmjbs0.jpg\n",
      "\n",
      "D:\\甩手数据包\\淘宝助理5201610271829\\media\\蓄电池直流屏专用正品4615\\20161027191639-7-1_dmjbs0.jpg\n",
      "\n",
      "D:/甩手数据包/淘宝助理5201610271723/contentPic/免维护蓄电池电源专用1697/16977b5027-4.jpg\n",
      "\n",
      "D:/甩手数据包/淘宝助理5201610271723/contentPic/蓄电池太阳能直流屏用2223/22233d5504-9.jpg\n",
      "\n",
      "D:/甩手数据包/淘宝助理5201610271829/contentPic/新正品免维护质保三年4923/492386ffb5-1.jpg\n",
      "\n",
      "D:\\甩手数据包\\淘宝助理5201610271829\\media\\正品质保三年价格低廉2908\\20161027190736-0-6_dmjbs0.jpg\n",
      "\n",
      "D:\\甩手数据包\\淘宝助理5201610271723\\media\\蓄电池太阳能直流屏用2223\\20161027174409-6-3_dmjbs0.jpg\n",
      "\n",
      "D:\\甩手数据包\\淘宝助理5201610271829\\media\\正品质保三年价格低廉2908\\20161027190736-0-2_dmjbs0.jpg\n",
      "\n",
      "D:/甩手数据包/淘宝助理5201610271829/contentPic/电池原装正品质保一年2667/2667936382-1.jpg\n",
      "\n",
      "D:/甩手数据包/淘宝助理5201610271723/contentPic/蓄电池太阳能直流屏用2223/22233d5504-9.jpg\n",
      "\n",
      "D:/甩手数据包/淘宝助理5201610271723/contentPic/蓄电池应急灯电源通用612/612369c15-4.jpg\n",
      "\n",
      "D:/甩手数据包/淘宝助理5201610271829/contentPic/保三年电源电力专用电2972/29720cb4d6-3.jpg\n",
      "\n",
      "D:\\甩手数据包\\淘宝助理5201610271829\\media\\蓄电池直流屏专用正品4615\\20161027191639-7-4_dmjbs0.jpg\n",
      "\n",
      "D:\\甩手数据包\\淘宝助理5201610271723\\media\\免维护蓄电池电源专用1697\\20161027174422-8-5_dmjbs0.jpg\n",
      "\n",
      "D:/甩手数据包/淘宝助理5201610271647/contentPic/蓄电池铅酸阀控免维护72/72ccd30b-1.jpg\n",
      "\n",
      "D:/甩手数据包/淘宝助理5201610271829/contentPic/专用电源质保三年全新3147/3147b992cd-13.jpg\n",
      "\n",
      "D:/甩手数据包/淘宝助理5201610271829/contentPic/装正品松下电源蓄电池3239/32393d3779-13.jpg\n",
      "\n",
      "D:\\甩手数据包\\淘宝助理5201610271829\\media\\特电源电池只延时小时3808\\20161027185607-9-3_dmjbs0.jpg\n",
      "\n",
      "D:/甩手数据包/淘宝助理5201610271829/contentPic/正品质保三年全国包邮4464/44641abeaf-1.jpg\n",
      "\n",
      "D:/甩手数据包/淘宝助理5201610271647/contentPic/铅酸阀控免维护蓄电池67/677f496d-7.jpg\n",
      "\n",
      "D:/甩手数据包/淘宝助理5201610271829/contentPic/特电源电池只延时小时3808/380845f34f-6.jpg\n",
      "\n",
      "D:/甩手数据包/淘宝助理5201610271723/contentPic/松下蓄电池应急灯通用827/8274a79ed-1.jpg\n",
      "\n",
      "D:/甩手数据包/淘宝助理5201610271647/contentPic/池蓄电池蓄电池电动车149/14990bf93-3.jpg\n",
      "\n",
      "D:/甩手数据包/淘宝助理5201610271723/contentPic/蓄电池太阳能直流屏用2123/21234ecc4b-6.jpg\n",
      "\n",
      "D:\\甩手数据包\\淘宝助理5201610271647\\media\\电池电池松下电瓶电池80\\20161027165121-0-4_dmjbs0.jpg\n",
      "\n",
      "D:\\甩手数据包\\淘宝助理5201610271829\\media\\保证质保三年电源电力2992\\20161027190624-9-1_dmjbs0.jpg\n",
      "\n",
      "D:\\甩手数据包\\淘宝助理5201610271829\\media\\下直流屏太阳能蓄电池3267\\20161027190911-0-2_dmjbs0.jpg\n",
      "\n",
      "D:/甩手数据包/淘宝助理5201610271829/contentPic/护胶体蓄电池厂家直销4754/4754eb7b39-6.jpg\n",
      "\n"
     ]
    }
   ],
   "source": [
    "for line in listtt:\n",
    "    print (line)"
   ]
  },
  {
   "cell_type": "code",
   "execution_count": null,
   "metadata": {
    "collapsed": true
   },
   "outputs": [],
   "source": []
  }
 ],
 "metadata": {
  "kernelspec": {
   "display_name": "Python 2",
   "language": "python",
   "name": "python2"
  },
  "language_info": {
   "codemirror_mode": {
    "name": "ipython",
    "version": 2
   },
   "file_extension": ".py",
   "mimetype": "text/x-python",
   "name": "python",
   "nbconvert_exporter": "python",
   "pygments_lexer": "ipython2",
   "version": "2.7.13"
  }
 },
 "nbformat": 4,
 "nbformat_minor": 2
}
