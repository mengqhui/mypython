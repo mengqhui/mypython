{
 "cells": [
  {
   "cell_type": "code",
   "execution_count": null,
   "metadata": {},
   "outputs": [],
   "source": [
    "import pandas as pd\n",
    "from bs4 import BeautifulSoup"
   ]
  },
  {
   "cell_type": "code",
   "execution_count": null,
   "metadata": {},
   "outputs": [],
   "source": [
    "df=pd.read_csv('D:\\8633.CSV',sep='\\t',encoding='utf-16',header=1)"
   ]
  },
  {
   "cell_type": "code",
   "execution_count": null,
   "metadata": {},
   "outputs": [],
   "source": [
    "df.head(3)"
   ]
  },
  {
   "cell_type": "code",
   "execution_count": null,
   "metadata": {},
   "outputs": [],
   "source": [
    "df.loc[df.seller_cids=='NaN']"
   ]
  },
  {
   "cell_type": "code",
   "execution_count": null,
   "metadata": {},
   "outputs": [],
   "source": [
    "sellercids=['山特','艾默生','APC','科华','科士达','施耐德','梅兰日兰','PC','伊顿','台达','易事特','索科曼','金武士','雷诺士','雷迪司']\n",
    "sellercid=['1161780296','1161782383','1161782384','1161782385','1166208649','1166208650','1166210438','1296539831','1296539832','1296539833','1296539834','1296539835','1296539836','1296539837','1296539838']\n",
    "seller=['德国阳光','松下','汤浅','理士','冠军','非凡','山特','山顿','科华','美阳','施耐德','欣能','德国苏克士','奥特多','圣阳','鸿贝','骆俊','梅兰日兰','风帆','耐普','九洲雄霸','东洋','劲博','双登','赛特','OTP']\n",
    "seller2=['1157818182','1157818183','1157818184','1157818185','1157818186','1161780293','1161780294','1161780295','1166210433','1166210434','1166210435','1166210436','1166210437','1276039616','1296276394','1296534176','1296534177','1296534178','1296534179','1296534180','1296534181','1296534182','1296534183','1296536247','1296536248','1296536249']\n",
    "for index,tit in enumerate(df.title):\n",
    "    for ind in range(len(seller)):\n",
    "        if tit.find(seller[ind]):\n",
    "            df.seller_cids[index]=seller2[ind]"
   ]
  },
  {
   "cell_type": "code",
   "execution_count": null,
   "metadata": {},
   "outputs": [],
   "source": [
    "df.seller_cids.head(12)"
   ]
  },
  {
   "cell_type": "code",
   "execution_count": null,
   "metadata": {
    "collapsed": true
   },
   "outputs": [],
   "source": []
  }
 ],
 "metadata": {
  "kernelspec": {
   "display_name": "Python 3",
   "language": "python",
   "name": "python3"
  },
  "language_info": {
   "codemirror_mode": {
    "name": "ipython",
    "version": 3
   },
   "file_extension": ".py",
   "mimetype": "text/x-python",
   "name": "python",
   "nbconvert_exporter": "python",
   "pygments_lexer": "ipython3",
   "version": "3.6.5"
  }
 },
 "nbformat": 4,
 "nbformat_minor": 2
}
