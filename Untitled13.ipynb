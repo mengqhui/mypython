{
 "cells": [
  {
   "cell_type": "code",
   "execution_count": 11,
   "metadata": {
    "collapsed": true,
    "deletable": true,
    "editable": true
   },
   "outputs": [],
   "source": [
    "from bs4 import BeautifulSoup\n",
    "import urllib2\n",
    "import sys\n",
    "import time\n",
    "from selenium import webdriver\n",
    "\n",
    "reload(sys)\n",
    "sys.setdefaultencoding('gbk') # 设置编码\n"
   ]
  },
  {
   "cell_type": "code",
   "execution_count": 12,
   "metadata": {
    "collapsed": false,
    "deletable": true,
    "editable": true,
    "scrolled": true
   },
   "outputs": [],
   "source": [
    "fo = open('table.txt', 'w')\n",
    "\n",
    "driver = webdriver.Firefox()\n",
    "\n",
    "for i in range(2):\n",
    "    print(i)\n",
    "    urlbase=\"http://www.kuaidaili.com/free/inha/\"\n",
    "    url=urlbase+str(i)\n",
    "    driver.get(url)\n",
    "    print driver.page_source\n",
    "    #elem_dh = driver.find_elements_by_xpath(\"//div[@id='list'']/table\")\n",
    "    #print elem_dh"
   ]
  },
  {
   "cell_type": "markdown",
   "metadata": {
    "deletable": true,
    "editable": true
   },
   "source": []
  },
  {
   "cell_type": "code",
   "execution_count": 19,
   "metadata": {
    "collapsed": false,
    "deletable": true,
    "editable": true
   },
   "outputs": [],
   "source": [
    "\n",
    "driver = webdriver.Firefox()\n",
    "driver.get(\"http://www.huangye88.com/\")"
   ]
  },
  {
   "cell_type": "code",
   "execution_count": null,
   "metadata": {
    "collapsed": true
   },
   "outputs": [],
   "source": []
  }
 ],
 "metadata": {
  "kernelspec": {
   "display_name": "Python 2",
   "language": "python",
   "name": "python2"
  },
  "language_info": {
   "codemirror_mode": {
    "name": "ipython",
    "version": 2
   },
   "file_extension": ".py",
   "mimetype": "text/x-python",
   "name": "python",
   "nbconvert_exporter": "python",
   "pygments_lexer": "ipython2",
   "version": "2.7.13"
  }
 },
 "nbformat": 4,
 "nbformat_minor": 2
}
