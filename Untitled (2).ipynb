{
 "cells": [
  {
   "cell_type": "code",
   "execution_count": null,
   "metadata": {},
   "outputs": [],
   "source": [
    "from selenium import webdriver\n",
    "from selenium.webdriver.common.by import By\n",
    "from selenium.webdriver.common.keys import Keys\n",
    "from selenium.webdriver.support.ui import Select\n",
    "from bs4 import BeautifulSoup\n",
    "import unittest, time, re,random,codecs\n",
    "from selenium.webdriver.common.desired_capabilities import DesiredCapabilities\n"
   ]
  },
  {
   "cell_type": "code",
   "execution_count": 8,
   "metadata": {},
   "outputs": [],
   "source": [
    "url = 'http://fabuxinxi.huangye88.com'\n",
    "\n",
    "cookie=[\n",
    "\t{'name': \"gr_user_id\",'value': \"38be0737-34fc-487f-bdfd-7f429f8552fe\"},\n",
    "\t{'name': \"hy88loginid\",'value': \"1629897\"},\n",
    "\t{'name': \"hy88realname\",'value': \"%E8%B5%B5%E7%9B%9B\"},\n",
    "\t{'name': \"hy88usergroup\",'value': \"11\"},\n",
    "\t{'name': \"hy88username\",'value': \"sonnen\"},\n",
    "\t{'name': \"hy_itemproductnames\",'value': \"%E5%BE%B7%E5%9B%BD%E9%98%B3%E5%85%89%E8%93%84%E7%94%B5%E6%B1%A0%E5%AF%B9%E6%AF%94%2C%E5%BE%B7%E5%9B%BD%E9%98%B3%E5%85%8960%E8%93%84%E7%94%B5%E6%B1%A0%2C%E8%BF%9B%E5%8F%A3%E5%BE%B7%E5%9B%BD%E9%98%B3%E5%85%89%E8%93%84%E7%94%B5%E6%B1%A0\"},\n",
    "\t{'name': \"hy_itemsubjects\",'value': \"%E5%8C%97%E4%BA%AC%E9%94%80%E5%94%AE%E9%98%B3%E5%85%89%E8%93%84%E7%94%B5%E6%B1%A0A512%2F2S%E4%BC%98%E8%B4%A8%E6%9C%8D%E5%8A%A1\"}\n",
    "\t]\n",
    "\n",
    "driver = webdriver.Chrome()\n",
    "\n",
    "\n",
    "driver.get('http://www.huangye88.com')\n",
    "driver.delete_all_cookies()\n",
    "for co in cookie:\n",
    "    driver.add_cookie(co)\n",
    "#driver.add_cookie(cookie)\n",
    "driver.get(url)\n",
    "\n"
   ]
  },
  {
   "cell_type": "code",
   "execution_count": null,
   "metadata": {},
   "outputs": [],
   "source": [
    "url = ''\n",
    "cookies = ''\n",
    "\n",
    "#将获取到的cookie进行整理\n",
    "def cookies_parse(cookies):\n",
    "    parsed_cookies = []\n",
    "    cookies = urllib.unquote(cookies) #urldecode\n",
    "    cookies = cookies.split(';')\n",
    "    for cookie in cookies:\n",
    "        cookie = cookie.strip()\n",
    "        name = cookie.split('=')[0].replace(' ', '+') #将空格替换为+\n",
    "        value = cookie.split('=')[1].replace(' ', '+')\n",
    "        parsed_cookies.append({'name': name, 'value': value})\n",
    "    return parsed_cookies\n",
    "\n",
    "def cookie_cheat(url, cookies):\n",
    "    driver = webdriver.Firefox() #调用Firefox浏览器\n",
    "    driver.get(url) #访问目标url\n",
    "    \n",
    "    #selenium没有修改cookie的功能，只能删除然后添加   \n",
    "    driver.delete_all_cookies() #删除所有cookie\n",
    "    for cookie in cookies:\n",
    "        #print cookie\n",
    "        driver.add_cookie(cookie) #添加获取到的cookie\n",
    "\n",
    "    driver.get(url) #再次访问\n",
    "    driver.close()"
   ]
  },
  {
   "cell_type": "code",
   "execution_count": null,
   "metadata": {},
   "outputs": [],
   "source": []
  }
 ],
 "metadata": {
  "kernelspec": {
   "display_name": "Python 3",
   "language": "python",
   "name": "python3"
  },
  "language_info": {
   "codemirror_mode": {
    "name": "ipython",
    "version": 3
   },
   "file_extension": ".py",
   "mimetype": "text/x-python",
   "name": "python",
   "nbconvert_exporter": "python",
   "pygments_lexer": "ipython3",
   "version": "3.6.5"
  }
 },
 "nbformat": 4,
 "nbformat_minor": 1
}
